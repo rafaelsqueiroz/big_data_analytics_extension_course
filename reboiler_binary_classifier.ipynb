{
 "cells": [
  {
   "cell_type": "code",
   "execution_count": 1,
   "metadata": {},
   "outputs": [
    {
     "name": "stderr",
     "output_type": "stream",
     "text": [
      "2023-01-25 19:44:17.630873: I tensorflow/core/platform/cpu_feature_guard.cc:193] This TensorFlow binary is optimized with oneAPI Deep Neural Network Library (oneDNN) to use the following CPU instructions in performance-critical operations:  AVX2 FMA\n",
      "To enable them in other operations, rebuild TensorFlow with the appropriate compiler flags.\n",
      "2023-01-25 19:44:18.001917: W tensorflow/compiler/xla/stream_executor/platform/default/dso_loader.cc:64] Could not load dynamic library 'libcudart.so.11.0'; dlerror: libcudart.so.11.0: cannot open shared object file: No such file or directory\n",
      "2023-01-25 19:44:18.001935: I tensorflow/compiler/xla/stream_executor/cuda/cudart_stub.cc:29] Ignore above cudart dlerror if you do not have a GPU set up on your machine.\n",
      "2023-01-25 19:44:19.110590: W tensorflow/compiler/xla/stream_executor/platform/default/dso_loader.cc:64] Could not load dynamic library 'libnvinfer.so.7'; dlerror: libnvinfer.so.7: cannot open shared object file: No such file or directory\n",
      "2023-01-25 19:44:19.110677: W tensorflow/compiler/xla/stream_executor/platform/default/dso_loader.cc:64] Could not load dynamic library 'libnvinfer_plugin.so.7'; dlerror: libnvinfer_plugin.so.7: cannot open shared object file: No such file or directory\n",
      "2023-01-25 19:44:19.110684: W tensorflow/compiler/tf2tensorrt/utils/py_utils.cc:38] TF-TRT Warning: Cannot dlopen some TensorRT libraries. If you would like to use Nvidia GPU with TensorRT, please make sure the missing libraries mentioned above are installed properly.\n"
     ]
    }
   ],
   "source": [
    "import pandas as pd\n",
    "from sklearn.model_selection import train_test_split\n",
    "from tensorflow import keras \n",
    "import os\n",
    "import time\n",
    "from sklearn.metrics import accuracy_score, ConfusionMatrixDisplay\n",
    "import matplotlib.pyplot as plt"
   ]
  },
  {
   "cell_type": "code",
   "execution_count": 28,
   "metadata": {},
   "outputs": [],
   "source": [
    "class ReboilerBinaryClassifier:\n",
    "    FEATURES_NUM = 8\n",
    "    OUTPUT_NUM = 2\n",
    "\n",
    "    def __init__(self, filepath):\n",
    "        self.filepath = filepath\n",
    "\n",
    "    def load_data(self):\n",
    "        data = pd.read_csv(self.filepath)\n",
    "        return self.process(data)\n",
    "\n",
    "    def process(self, pandas_df):\n",
    "        #TODO: Replace this method by Pipeline (from Tensorflow)\n",
    "        # fill missing values\n",
    "        for col in pandas_df:\n",
    "            if pandas_df[col].isnull().any(): # if column has at least one NaN value\n",
    "                pandas_df[col].fillna(value=pandas_df[col].mean(), inplace=True) # replace NaN with average\n",
    "            \n",
    "            # min-max scaling (normalization)\n",
    "            if pd.to_numeric(pandas_df[col], errors='coerce').notnull().all(): # if columns is composed only by numeric values        \n",
    "                pandas_df[col] = (pandas_df[col]-pandas_df[col].min())/(pandas_df[col].max()-pandas_df[col].min())\n",
    "\n",
    "        # hard code to convert 'Fecha' column to datetime ex: 2006-10-24 23:38:00\n",
    "        pandas_df['Fecha'] =  pd.to_datetime(pandas_df['Fecha'], format='%Y-%m-%d %H:%M:%S')\n",
    "\n",
    "        # resampling with same timestamp (2h) just to avoid vacancies \n",
    "        #TODO before training RNN\n",
    "        # pandas_df.resample('2H')\n",
    "\n",
    "        return pandas_df         \n",
    "                \n",
    "    def split_data(self, data, val_size=0.2, test_size=0.2):\n",
    "        X = data.iloc[:, 1:-1] # all rows, all columns except first and last\n",
    "        y = data.iloc[:, -1] # all rows, last column (label)\n",
    "        X_train, X_test, y_train, y_test = train_test_split(X, y, test_size=val_size, random_state=42)\n",
    "        X_train, X_val, y_train, y_val = train_test_split(X_train, y_train, test_size=test_size, random_state=42)\n",
    "        return X_train, y_train, X_val, y_val, X_test, y_test\n",
    "\n",
    "    ########################## NEURAL NETWORK MODEL ##########################\n",
    "\n",
    "    def create_model(self, print_summary=True):    \n",
    "\n",
    "        model = keras.models.Sequential([\n",
    "            keras.layers.Dense(32, input_shape=(ReboilerBinaryClassifier.FEATURES_NUM,), activation='sigmoid'),\n",
    "            # keras.layers.Dense(ReboilerBinaryClassifier.OUTPUT_NUM-1, activation=\"sigmoid\")\n",
    "            keras.layers.Dense(ReboilerBinaryClassifier.OUTPUT_NUM, activation=\"softmax\")\n",
    "        ])\n",
    "\n",
    "        model.compile(\n",
    "            loss='sparse_categorical_crossentropy', # with softmax (e.g. 0, 1, 2, 3, 4...)\n",
    "            # loss=\"binary_crossentropy\", # with sigmoid (e.g. 0 or 1)\n",
    "            optimizer=\"adam\",\n",
    "            metrics=[\"accuracy\"]\n",
    "        )\n",
    "        if print_summary:\n",
    "            model.summary()\n",
    "\n",
    "        return model\n",
    " \n",
    "    def train_model(self, model, X_train, y_train, X_val, y_val, X_test, y_test, epochs, *, name=None):\n",
    "        run_logdir = self.get_run_logdir(name)\n",
    "        tensorboard_cb = keras.callbacks.TensorBoard(run_logdir) # create event files within run_logdir\n",
    "        history = model.fit(X_train, y_train, epochs=epochs, validation_data=(X_val, y_val), callbacks=[tensorboard_cb])\n",
    "\n",
    "\n",
    "    def evaluate_model(self, model, X_test, y_test, save_confusion_matrix=False):\n",
    "        y_prob = model.predict(X_test) # probabilities\n",
    "        y_pred = y_prob.argmax(axis=-1) # predictions\n",
    "        # accuracy = model.evaluate(X_test, y_test)[1] # [loss, accuracy]\n",
    "        accuracy = accuracy_score(y_test, y_pred)\n",
    "        print('Accuracy on test set: {}'.format(accuracy))\n",
    "        disp = ConfusionMatrixDisplay.from_predictions(y_test, y_pred, xticks_rotation='vertical', cmap='Blues', colorbar=False)\n",
    "        plt.suptitle('Confusion Matrix - {}'.format(model))\n",
    "        plt.grid(False)   \n",
    "        if save_confusion_matrix:\n",
    "            plt.savefig(\"confusion-matrix.png\", dpi=300)\n",
    "        plt.show()\n",
    "\n",
    "    ########################## AUXILIARY METHODS ##########################\n",
    "\n",
    "    @staticmethod\n",
    "    def get_run_logdir(name=None):    \n",
    "        root_logdir = os.path.join(os.curdir, \"logs\")\n",
    "        run_id = time.strftime(\"run_%Y_%m_%d-%H_%M_%S\") if name is None else name\n",
    "        return os.path.join(root_logdir, run_id)\n"
   ]
  },
  {
   "cell_type": "code",
   "execution_count": 29,
   "metadata": {},
   "outputs": [],
   "source": [
    "r = ReboilerBinaryClassifier('Reboiler_Raw Data_With Timestamps.csv')"
   ]
  },
  {
   "cell_type": "code",
   "execution_count": 30,
   "metadata": {},
   "outputs": [],
   "source": [
    "r_pandas = r.load_data()"
   ]
  },
  {
   "cell_type": "code",
   "execution_count": 31,
   "metadata": {},
   "outputs": [
    {
     "data": {
      "text/html": [
       "<div>\n",
       "<style scoped>\n",
       "    .dataframe tbody tr th:only-of-type {\n",
       "        vertical-align: middle;\n",
       "    }\n",
       "\n",
       "    .dataframe tbody tr th {\n",
       "        vertical-align: top;\n",
       "    }\n",
       "\n",
       "    .dataframe thead th {\n",
       "        text-align: right;\n",
       "    }\n",
       "</style>\n",
       "<table border=\"1\" class=\"dataframe\">\n",
       "  <thead>\n",
       "    <tr style=\"text-align: right;\">\n",
       "      <th></th>\n",
       "      <th>Fecha</th>\n",
       "      <th>VAL356CI8017-Conductividad</th>\n",
       "      <th>VAL356M003-Carga Motor</th>\n",
       "      <th>VAL356M014-Carga Motor</th>\n",
       "      <th>VAL356M015-Carga Motor</th>\n",
       "      <th>VAL356PI8026-Ind.Presión</th>\n",
       "      <th>VAL356PIC8025-Ind.Presión</th>\n",
       "      <th>VAL356TI8015-Ind.Temperatura</th>\n",
       "      <th>VAL356TIC8014-Ind.Temperatura</th>\n",
       "      <th>Estado</th>\n",
       "    </tr>\n",
       "  </thead>\n",
       "  <tbody>\n",
       "    <tr>\n",
       "      <th>0</th>\n",
       "      <td>2006-10-24 23:38:00</td>\n",
       "      <td>3.075000e-33</td>\n",
       "      <td>0.644380</td>\n",
       "      <td>0.528332</td>\n",
       "      <td>0.460377</td>\n",
       "      <td>0.126248</td>\n",
       "      <td>0.142997</td>\n",
       "      <td>0.513363</td>\n",
       "      <td>0.634987</td>\n",
       "      <td>0.0</td>\n",
       "    </tr>\n",
       "    <tr>\n",
       "      <th>1</th>\n",
       "      <td>2006-10-25 01:38:00</td>\n",
       "      <td>4.725000e-33</td>\n",
       "      <td>0.651964</td>\n",
       "      <td>0.531276</td>\n",
       "      <td>0.457091</td>\n",
       "      <td>0.121644</td>\n",
       "      <td>0.140059</td>\n",
       "      <td>0.516451</td>\n",
       "      <td>0.635452</td>\n",
       "      <td>0.0</td>\n",
       "    </tr>\n",
       "    <tr>\n",
       "      <th>2</th>\n",
       "      <td>2006-10-25 03:38:00</td>\n",
       "      <td>6.475000e-33</td>\n",
       "      <td>0.652386</td>\n",
       "      <td>0.572375</td>\n",
       "      <td>0.450640</td>\n",
       "      <td>0.123683</td>\n",
       "      <td>0.137120</td>\n",
       "      <td>0.512564</td>\n",
       "      <td>0.636063</td>\n",
       "      <td>0.0</td>\n",
       "    </tr>\n",
       "    <tr>\n",
       "      <th>3</th>\n",
       "      <td>2006-10-25 05:38:00</td>\n",
       "      <td>6.800000e-33</td>\n",
       "      <td>0.621948</td>\n",
       "      <td>0.597508</td>\n",
       "      <td>0.437274</td>\n",
       "      <td>0.122217</td>\n",
       "      <td>0.140059</td>\n",
       "      <td>0.503801</td>\n",
       "      <td>0.636798</td>\n",
       "      <td>0.0</td>\n",
       "    </tr>\n",
       "    <tr>\n",
       "      <th>4</th>\n",
       "      <td>2006-10-25 07:38:00</td>\n",
       "      <td>5.500000e-33</td>\n",
       "      <td>0.607817</td>\n",
       "      <td>0.541996</td>\n",
       "      <td>0.421190</td>\n",
       "      <td>0.121823</td>\n",
       "      <td>0.138100</td>\n",
       "      <td>0.512467</td>\n",
       "      <td>0.636687</td>\n",
       "      <td>0.0</td>\n",
       "    </tr>\n",
       "  </tbody>\n",
       "</table>\n",
       "</div>"
      ],
      "text/plain": [
       "                Fecha  VAL356CI8017-Conductividad  VAL356M003-Carga Motor  \\\n",
       "0 2006-10-24 23:38:00                3.075000e-33                0.644380   \n",
       "1 2006-10-25 01:38:00                4.725000e-33                0.651964   \n",
       "2 2006-10-25 03:38:00                6.475000e-33                0.652386   \n",
       "3 2006-10-25 05:38:00                6.800000e-33                0.621948   \n",
       "4 2006-10-25 07:38:00                5.500000e-33                0.607817   \n",
       "\n",
       "   VAL356M014-Carga Motor  VAL356M015-Carga Motor  VAL356PI8026-Ind.Presión  \\\n",
       "0                0.528332                0.460377                  0.126248   \n",
       "1                0.531276                0.457091                  0.121644   \n",
       "2                0.572375                0.450640                  0.123683   \n",
       "3                0.597508                0.437274                  0.122217   \n",
       "4                0.541996                0.421190                  0.121823   \n",
       "\n",
       "   VAL356PIC8025-Ind.Presión  VAL356TI8015-Ind.Temperatura  \\\n",
       "0                   0.142997                      0.513363   \n",
       "1                   0.140059                      0.516451   \n",
       "2                   0.137120                      0.512564   \n",
       "3                   0.140059                      0.503801   \n",
       "4                   0.138100                      0.512467   \n",
       "\n",
       "   VAL356TIC8014-Ind.Temperatura  Estado  \n",
       "0                       0.634987     0.0  \n",
       "1                       0.635452     0.0  \n",
       "2                       0.636063     0.0  \n",
       "3                       0.636798     0.0  \n",
       "4                       0.636687     0.0  "
      ]
     },
     "execution_count": 31,
     "metadata": {},
     "output_type": "execute_result"
    }
   ],
   "source": [
    "r_pandas.head()"
   ]
  },
  {
   "cell_type": "code",
   "execution_count": 45,
   "metadata": {},
   "outputs": [
    {
     "data": {
      "text/plain": [
       "(42206, 10)"
      ]
     },
     "execution_count": 45,
     "metadata": {},
     "output_type": "execute_result"
    }
   ],
   "source": [
    "r_pandas.shape"
   ]
  },
  {
   "cell_type": "code",
   "execution_count": 44,
   "metadata": {},
   "outputs": [
    {
     "data": {
      "text/plain": [
       "<AxesSubplot:xlabel='Fecha', ylabel='Estado'>"
      ]
     },
     "execution_count": 44,
     "metadata": {},
     "output_type": "execute_result"
    },
    {
     "data": {
      "image/png": "[encoded data removed]",
      "text/plain": [
       "<Figure size 640x480 with 1 Axes>"
      ]
     },
     "metadata": {},
     "output_type": "display_data"
    }
   ],
   "source": [
    "r_pandas.plot.scatter(x='Fecha', y='Estado')"
   ]
  },
  {
   "cell_type": "code",
   "execution_count": 6,
   "metadata": {},
   "outputs": [],
   "source": [
    "X_train, y_train, X_val, y_val, X_test, y_test = r.split_data(r_pandas)"
   ]
  },
  {
   "cell_type": "code",
   "execution_count": 7,
   "metadata": {},
   "outputs": [
    {
     "name": "stdout",
     "output_type": "stream",
     "text": [
      "X_train (27011, 8)\n",
      "y_train (27011,)\n",
      "X_val (6753, 8)\n",
      "y_val (6753,)\n",
      "X_test (8442, 8)\n",
      "y_test (8442,)\n"
     ]
    }
   ],
   "source": [
    "print('X_train', X_train.shape)\n",
    "print('y_train', y_train.shape)\n",
    "print('X_val', X_val.shape)\n",
    "print('y_val', y_val.shape)\n",
    "print('X_test', X_test.shape)\n",
    "print('y_test', y_test.shape)"
   ]
  },
  {
   "cell_type": "code",
   "execution_count": 8,
   "metadata": {},
   "outputs": [
    {
     "name": "stdout",
     "output_type": "stream",
     "text": [
      "Model: \"sequential\"\n",
      "_________________________________________________________________\n",
      " Layer (type)                Output Shape              Param #   \n",
      "=================================================================\n",
      " dense (Dense)               (None, 32)                288       \n",
      "                                                                 \n",
      " dense_1 (Dense)             (None, 2)                 66        \n",
      "                                                                 \n",
      "=================================================================\n",
      "Total params: 354\n",
      "Trainable params: 354\n",
      "Non-trainable params: 0\n",
      "_________________________________________________________________\n"
     ]
    },
    {
     "name": "stderr",
     "output_type": "stream",
     "text": [
      "2023-01-24 22:13:18.233009: I tensorflow/compiler/xla/stream_executor/cuda/cuda_gpu_executor.cc:981] successful NUMA node read from SysFS had negative value (-1), but there must be at least one NUMA node, so returning NUMA node zero\n",
      "2023-01-24 22:13:18.233401: W tensorflow/compiler/xla/stream_executor/platform/default/dso_loader.cc:64] Could not load dynamic library 'libcudart.so.11.0'; dlerror: libcudart.so.11.0: cannot open shared object file: No such file or directory\n",
      "2023-01-24 22:13:18.233462: W tensorflow/compiler/xla/stream_executor/platform/default/dso_loader.cc:64] Could not load dynamic library 'libcublas.so.11'; dlerror: libcublas.so.11: cannot open shared object file: No such file or directory\n",
      "2023-01-24 22:13:18.233523: W tensorflow/compiler/xla/stream_executor/platform/default/dso_loader.cc:64] Could not load dynamic library 'libcublasLt.so.11'; dlerror: libcublasLt.so.11: cannot open shared object file: No such file or directory\n",
      "2023-01-24 22:13:18.233606: W tensorflow/compiler/xla/stream_executor/platform/default/dso_loader.cc:64] Could not load dynamic library 'libcufft.so.10'; dlerror: libcufft.so.10: cannot open shared object file: No such file or directory\n",
      "2023-01-24 22:13:18.233672: W tensorflow/compiler/xla/stream_executor/platform/default/dso_loader.cc:64] Could not load dynamic library 'libcurand.so.10'; dlerror: libcurand.so.10: cannot open shared object file: No such file or directory\n",
      "2023-01-24 22:13:18.233723: W tensorflow/compiler/xla/stream_executor/platform/default/dso_loader.cc:64] Could not load dynamic library 'libcusolver.so.11'; dlerror: libcusolver.so.11: cannot open shared object file: No such file or directory\n",
      "2023-01-24 22:13:18.233836: W tensorflow/compiler/xla/stream_executor/platform/default/dso_loader.cc:64] Could not load dynamic library 'libcusparse.so.11'; dlerror: libcusparse.so.11: cannot open shared object file: No such file or directory\n",
      "2023-01-24 22:13:18.233889: W tensorflow/compiler/xla/stream_executor/platform/default/dso_loader.cc:64] Could not load dynamic library 'libcudnn.so.8'; dlerror: libcudnn.so.8: cannot open shared object file: No such file or directory\n",
      "2023-01-24 22:13:18.233897: W tensorflow/core/common_runtime/gpu/gpu_device.cc:1934] Cannot dlopen some GPU libraries. Please make sure the missing libraries mentioned above are installed properly if you would like to use GPU. Follow the guide at https://www.tensorflow.org/install/gpu for how to download and setup the required libraries for your platform.\n",
      "Skipping registering GPU devices...\n",
      "2023-01-24 22:13:18.234273: I tensorflow/core/platform/cpu_feature_guard.cc:193] This TensorFlow binary is optimized with oneAPI Deep Neural Network Library (oneDNN) to use the following CPU instructions in performance-critical operations:  AVX2 FMA\n",
      "To enable them in other operations, rebuild TensorFlow with the appropriate compiler flags.\n"
     ]
    }
   ],
   "source": [
    "model = r.create_model()"
   ]
  },
  {
   "cell_type": "code",
   "execution_count": 9,
   "metadata": {},
   "outputs": [
    {
     "name": "stdout",
     "output_type": "stream",
     "text": [
      "Epoch 1/50\n",
      "WARNING:tensorflow:AutoGraph could not transform <function Model.make_train_function.<locals>.train_function at 0x7fcbd8934c20> and will run it as-is.\n",
      "Please report this to the TensorFlow team. When filing the bug, set the verbosity to 10 (on Linux, `export AUTOGRAPH_VERBOSITY=10`) and attach the full output.\n",
      "Cause: 'arguments' object has no attribute 'posonlyargs'\n",
      "To silence this warning, decorate the function with @tf.autograph.experimental.do_not_convert\n",
      "WARNING: AutoGraph could not transform <function Model.make_train_function.<locals>.train_function at 0x7fcbd8934c20> and will run it as-is.\n",
      "Please report this to the TensorFlow team. When filing the bug, set the verbosity to 10 (on Linux, `export AUTOGRAPH_VERBOSITY=10`) and attach the full output.\n",
      "Cause: 'arguments' object has no attribute 'posonlyargs'\n",
      "To silence this warning, decorate the function with @tf.autograph.experimental.do_not_convert\n",
      "798/845 [===========================>..] - ETA: 0s - loss: 0.2569 - accuracy: 0.9285WARNING:tensorflow:AutoGraph could not transform <function Model.make_test_function.<locals>.test_function at 0x7fcbd84a3dd0> and will run it as-is.\n",
      "Please report this to the TensorFlow team. When filing the bug, set the verbosity to 10 (on Linux, `export AUTOGRAPH_VERBOSITY=10`) and attach the full output.\n",
      "Cause: 'arguments' object has no attribute 'posonlyargs'\n",
      "To silence this warning, decorate the function with @tf.autograph.experimental.do_not_convert\n",
      "WARNING: AutoGraph could not transform <function Model.make_test_function.<locals>.test_function at 0x7fcbd84a3dd0> and will run it as-is.\n",
      "Please report this to the TensorFlow team. When filing the bug, set the verbosity to 10 (on Linux, `export AUTOGRAPH_VERBOSITY=10`) and attach the full output.\n",
      "Cause: 'arguments' object has no attribute 'posonlyargs'\n",
      "To silence this warning, decorate the function with @tf.autograph.experimental.do_not_convert\n",
      "845/845 [==============================] - 1s 1ms/step - loss: 0.2562 - accuracy: 0.9288 - val_loss: 0.2353 - val_accuracy: 0.9365\n",
      "Epoch 2/50\n",
      "845/845 [==============================] - 1s 1ms/step - loss: 0.2334 - accuracy: 0.9357 - val_loss: 0.2268 - val_accuracy: 0.9365\n",
      "Epoch 3/50\n",
      "845/845 [==============================] - 1s 1ms/step - loss: 0.2237 - accuracy: 0.9357 - val_loss: 0.2159 - val_accuracy: 0.9365\n",
      "Epoch 4/50\n",
      "845/845 [==============================] - 1s 1ms/step - loss: 0.2112 - accuracy: 0.9357 - val_loss: 0.2025 - val_accuracy: 0.9365\n",
      "Epoch 5/50\n",
      "845/845 [==============================] - 1s 1ms/step - loss: 0.1960 - accuracy: 0.9357 - val_loss: 0.1873 - val_accuracy: 0.9365\n",
      "Epoch 6/50\n",
      "845/845 [==============================] - 1s 1ms/step - loss: 0.1779 - accuracy: 0.9357 - val_loss: 0.1685 - val_accuracy: 0.9365\n",
      "Epoch 7/50\n",
      "845/845 [==============================] - 1s 1ms/step - loss: 0.1581 - accuracy: 0.9360 - val_loss: 0.1508 - val_accuracy: 0.9382\n",
      "Epoch 8/50\n",
      "845/845 [==============================] - 1s 1ms/step - loss: 0.1375 - accuracy: 0.9390 - val_loss: 0.1290 - val_accuracy: 0.9440\n",
      "Epoch 9/50\n",
      "845/845 [==============================] - 1s 1ms/step - loss: 0.1181 - accuracy: 0.9459 - val_loss: 0.1122 - val_accuracy: 0.9457\n",
      "Epoch 10/50\n",
      "845/845 [==============================] - 1s 1ms/step - loss: 0.1015 - accuracy: 0.9552 - val_loss: 0.0963 - val_accuracy: 0.9563\n",
      "Epoch 11/50\n",
      "845/845 [==============================] - 1s 1ms/step - loss: 0.0876 - accuracy: 0.9654 - val_loss: 0.0835 - val_accuracy: 0.9695\n",
      "Epoch 12/50\n",
      "845/845 [==============================] - 1s 1ms/step - loss: 0.0764 - accuracy: 0.9712 - val_loss: 0.0746 - val_accuracy: 0.9691\n",
      "Epoch 13/50\n",
      "845/845 [==============================] - 1s 1ms/step - loss: 0.0674 - accuracy: 0.9751 - val_loss: 0.0657 - val_accuracy: 0.9756\n",
      "Epoch 14/50\n",
      "845/845 [==============================] - 1s 1ms/step - loss: 0.0601 - accuracy: 0.9782 - val_loss: 0.0593 - val_accuracy: 0.9770\n",
      "Epoch 15/50\n",
      "845/845 [==============================] - 1s 1ms/step - loss: 0.0542 - accuracy: 0.9801 - val_loss: 0.0542 - val_accuracy: 0.9799\n",
      "Epoch 16/50\n",
      "845/845 [==============================] - 1s 1ms/step - loss: 0.0497 - accuracy: 0.9819 - val_loss: 0.0522 - val_accuracy: 0.9766\n",
      "Epoch 17/50\n",
      "845/845 [==============================] - 1s 1ms/step - loss: 0.0457 - accuracy: 0.9838 - val_loss: 0.0476 - val_accuracy: 0.9871\n",
      "Epoch 18/50\n",
      "845/845 [==============================] - 1s 1ms/step - loss: 0.0425 - accuracy: 0.9849 - val_loss: 0.0451 - val_accuracy: 0.9793\n",
      "Epoch 19/50\n",
      "845/845 [==============================] - 1s 1ms/step - loss: 0.0399 - accuracy: 0.9857 - val_loss: 0.0411 - val_accuracy: 0.9846\n",
      "Epoch 20/50\n",
      "845/845 [==============================] - 1s 1ms/step - loss: 0.0377 - accuracy: 0.9869 - val_loss: 0.0395 - val_accuracy: 0.9893\n",
      "Epoch 21/50\n",
      "845/845 [==============================] - 1s 1ms/step - loss: 0.0355 - accuracy: 0.9873 - val_loss: 0.0373 - val_accuracy: 0.9855\n",
      "Epoch 22/50\n",
      "845/845 [==============================] - 1s 1ms/step - loss: 0.0341 - accuracy: 0.9877 - val_loss: 0.0358 - val_accuracy: 0.9862\n",
      "Epoch 23/50\n",
      "845/845 [==============================] - 1s 1ms/step - loss: 0.0326 - accuracy: 0.9885 - val_loss: 0.0351 - val_accuracy: 0.9845\n",
      "Epoch 24/50\n",
      "845/845 [==============================] - 1s 1ms/step - loss: 0.0313 - accuracy: 0.9890 - val_loss: 0.0331 - val_accuracy: 0.9874\n",
      "Epoch 25/50\n",
      "845/845 [==============================] - 1s 1ms/step - loss: 0.0303 - accuracy: 0.9894 - val_loss: 0.0322 - val_accuracy: 0.9910\n",
      "Epoch 26/50\n",
      "845/845 [==============================] - 1s 1ms/step - loss: 0.0293 - accuracy: 0.9901 - val_loss: 0.0311 - val_accuracy: 0.9907\n",
      "Epoch 27/50\n",
      "845/845 [==============================] - 1s 1ms/step - loss: 0.0285 - accuracy: 0.9901 - val_loss: 0.0301 - val_accuracy: 0.9898\n",
      "Epoch 28/50\n",
      "845/845 [==============================] - 1s 1ms/step - loss: 0.0276 - accuracy: 0.9906 - val_loss: 0.0300 - val_accuracy: 0.9874\n",
      "Epoch 29/50\n",
      "845/845 [==============================] - 1s 1ms/step - loss: 0.0267 - accuracy: 0.9907 - val_loss: 0.0302 - val_accuracy: 0.9865\n",
      "Epoch 30/50\n",
      "845/845 [==============================] - 1s 1ms/step - loss: 0.0263 - accuracy: 0.9909 - val_loss: 0.0281 - val_accuracy: 0.9924\n",
      "Epoch 31/50\n",
      "845/845 [==============================] - 1s 1ms/step - loss: 0.0256 - accuracy: 0.9912 - val_loss: 0.0279 - val_accuracy: 0.9886\n",
      "Epoch 32/50\n",
      "845/845 [==============================] - 1s 1ms/step - loss: 0.0250 - accuracy: 0.9916 - val_loss: 0.0310 - val_accuracy: 0.9837\n",
      "Epoch 33/50\n",
      "845/845 [==============================] - 1s 1ms/step - loss: 0.0245 - accuracy: 0.9920 - val_loss: 0.0274 - val_accuracy: 0.9876\n",
      "Epoch 34/50\n",
      "845/845 [==============================] - 1s 1ms/step - loss: 0.0239 - accuracy: 0.9923 - val_loss: 0.0269 - val_accuracy: 0.9879\n",
      "Epoch 35/50\n",
      "845/845 [==============================] - 1s 1ms/step - loss: 0.0235 - accuracy: 0.9919 - val_loss: 0.0253 - val_accuracy: 0.9922\n",
      "Epoch 36/50\n",
      "845/845 [==============================] - 1s 1ms/step - loss: 0.0233 - accuracy: 0.9925 - val_loss: 0.0252 - val_accuracy: 0.9902\n",
      "Epoch 37/50\n",
      "845/845 [==============================] - 1s 1ms/step - loss: 0.0228 - accuracy: 0.9922 - val_loss: 0.0244 - val_accuracy: 0.9922\n",
      "Epoch 38/50\n",
      "845/845 [==============================] - 1s 1ms/step - loss: 0.0224 - accuracy: 0.9929 - val_loss: 0.0245 - val_accuracy: 0.9904\n",
      "Epoch 39/50\n",
      "845/845 [==============================] - 1s 1ms/step - loss: 0.0221 - accuracy: 0.9927 - val_loss: 0.0241 - val_accuracy: 0.9913\n",
      "Epoch 40/50\n",
      "845/845 [==============================] - 1s 1ms/step - loss: 0.0217 - accuracy: 0.9928 - val_loss: 0.0233 - val_accuracy: 0.9938\n",
      "Epoch 41/50\n",
      "845/845 [==============================] - 1s 1ms/step - loss: 0.0214 - accuracy: 0.9934 - val_loss: 0.0261 - val_accuracy: 0.9867\n",
      "Epoch 42/50\n",
      "845/845 [==============================] - 1s 1ms/step - loss: 0.0212 - accuracy: 0.9937 - val_loss: 0.0226 - val_accuracy: 0.9942\n",
      "Epoch 43/50\n",
      "845/845 [==============================] - 1s 1ms/step - loss: 0.0208 - accuracy: 0.9931 - val_loss: 0.0228 - val_accuracy: 0.9913\n",
      "Epoch 44/50\n",
      "845/845 [==============================] - 1s 1ms/step - loss: 0.0205 - accuracy: 0.9934 - val_loss: 0.0220 - val_accuracy: 0.9933\n",
      "Epoch 45/50\n",
      "845/845 [==============================] - 1s 1ms/step - loss: 0.0204 - accuracy: 0.9934 - val_loss: 0.0217 - val_accuracy: 0.9933\n",
      "Epoch 46/50\n",
      "845/845 [==============================] - 1s 1ms/step - loss: 0.0200 - accuracy: 0.9936 - val_loss: 0.0218 - val_accuracy: 0.9922\n",
      "Epoch 47/50\n",
      "845/845 [==============================] - 1s 1ms/step - loss: 0.0195 - accuracy: 0.9936 - val_loss: 0.0223 - val_accuracy: 0.9904\n",
      "Epoch 48/50\n",
      "845/845 [==============================] - 1s 1ms/step - loss: 0.0194 - accuracy: 0.9942 - val_loss: 0.0223 - val_accuracy: 0.9969\n",
      "Epoch 49/50\n",
      "845/845 [==============================] - 1s 1ms/step - loss: 0.0192 - accuracy: 0.9947 - val_loss: 0.0213 - val_accuracy: 0.9922\n",
      "Epoch 50/50\n",
      "845/845 [==============================] - 1s 1ms/step - loss: 0.0189 - accuracy: 0.9940 - val_loss: 0.0204 - val_accuracy: 0.9950\n"
     ]
    }
   ],
   "source": [
    "r.train_model(model, X_train, y_train, X_val, y_val, X_test, y_test, epochs=50, name=None)"
   ]
  },
  {
   "cell_type": "code",
   "execution_count": 10,
   "metadata": {},
   "outputs": [
    {
     "data": {
      "text/html": [
       "\n",
       "      <iframe id=\"tensorboard-frame-ac68ad05fc108d0a\" width=\"100%\" height=\"800\" frameborder=\"0\">\n",
       "      </iframe>\n",
       "      <script>\n",
       "        (function() {\n",
       "          const frame = document.getElementById(\"tensorboard-frame-ac68ad05fc108d0a\");\n",
       "          const url = new URL(\"/\", window.location);\n",
       "          const port = 8888;\n",
       "          if (port) {\n",
       "            url.port = port;\n",
       "          }\n",
       "          frame.src = url;\n",
       "        })();\n",
       "      </script>\n",
       "    "
      ],
      "text/plain": [
       "<IPython.core.display.HTML object>"
      ]
     },
     "metadata": {},
     "output_type": "display_data"
    }
   ],
   "source": [
    "%reload_ext tensorboard\n",
    "# %load_ext tensorboard\n",
    "%tensorboard --logdir=./logs --port=8888"
   ]
  },
  {
   "cell_type": "code",
   "execution_count": 11,
   "metadata": {},
   "outputs": [
    {
     "name": "stdout",
     "output_type": "stream",
     "text": [
      "WARNING:tensorflow:AutoGraph could not transform <function Model.make_predict_function.<locals>.predict_function at 0x7fcbd75aef80> and will run it as-is.\n",
      "Please report this to the TensorFlow team. When filing the bug, set the verbosity to 10 (on Linux, `export AUTOGRAPH_VERBOSITY=10`) and attach the full output.\n",
      "Cause: 'arguments' object has no attribute 'posonlyargs'\n",
      "To silence this warning, decorate the function with @tf.autograph.experimental.do_not_convert\n",
      "WARNING: AutoGraph could not transform <function Model.make_predict_function.<locals>.predict_function at 0x7fcbd75aef80> and will run it as-is.\n",
      "Please report this to the TensorFlow team. When filing the bug, set the verbosity to 10 (on Linux, `export AUTOGRAPH_VERBOSITY=10`) and attach the full output.\n",
      "Cause: 'arguments' object has no attribute 'posonlyargs'\n",
      "To silence this warning, decorate the function with @tf.autograph.experimental.do_not_convert\n",
      "264/264 [==============================] - 0s 710us/step\n",
      "Accuracy on test set: 0.9941956882255389\n"
     ]
    },
    {
     "data": {
      "image/png": "[encoded data removed]",
      "text/plain": [
       "<Figure size 640x480 with 1 Axes>"
      ]
     },
     "metadata": {},
     "output_type": "display_data"
    }
   ],
   "source": [
    "r.evaluate_model(model, X_test, y_test)"
   ]
  }
 ],
 "metadata": {
  "kernelspec": {
   "display_name": "databruin",
   "language": "python",
   "name": "python3"
  },
  "language_info": {
   "codemirror_mode": {
    "name": "ipython",
    "version": 3
   },
   "file_extension": ".py",
   "mimetype": "text/x-python",
   "name": "python",
   "nbconvert_exporter": "python",
   "pygments_lexer": "ipython3",
   "version": "3.7.16"
  },
  "orig_nbformat": 4,
  "vscode": {
   "interpreter": {
    "hash": "7e31652370f81e4d414a79ef78224fd771cb2105967e3b70b900be41f5e14b14"
   }
  }
 },
 "nbformat": 4,
 "nbformat_minor": 2
}
