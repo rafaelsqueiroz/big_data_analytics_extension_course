{
 "cells": [
  {
   "cell_type": "code",
   "execution_count": 1,
   "metadata": {},
   "outputs": [],
   "source": [
    "import pandas as pd\n",
    "from sklearn.model_selection import train_test_split\n",
    "from tensorflow import keras \n",
    "import os\n",
    "import time\n",
    "from sklearn.metrics import accuracy_score"
   ]
  },
  {
   "cell_type": "code",
   "execution_count": 13,
   "metadata": {},
   "outputs": [],
   "source": [
    "class ReboilerBinaryClassifier:\n",
    "    FEATURES_NUM = 8\n",
    "    OUTPUT_NUM = 2\n",
    "\n",
    "    def __init__(self, filepath):\n",
    "        self.filepath = filepath\n",
    "\n",
    "    def load_data(self):\n",
    "        data = pd.read_csv(self.filepath)\n",
    "        return self.process(data)\n",
    "\n",
    "    def process(self, pandas_df):\n",
    "        for col in pandas_df:\n",
    "            if pandas_df[col].isnull().any(): # if column has at least one NaN value\n",
    "                pandas_df[col].fillna(value=pandas_df[col].mean(), inplace=True) # replace NaN with average\n",
    "\n",
    "        return pandas_df         \n",
    "                \n",
    "    def split_data(self, data, val_size=0.2, test_size=0.2):\n",
    "        X = data.iloc[:, 1:-1] # all rows, all columns except first and last\n",
    "        y = data.iloc[:, -1] # all rows, last column (label)\n",
    "        X_train, X_test, y_train, y_test = train_test_split(X, y, test_size=val_size, random_state=42)\n",
    "        X_train, X_val, y_train, y_val = train_test_split(X_train, y_train, test_size=test_size, random_state=42)\n",
    "        return X_train, y_train, X_val, y_val, X_test, y_test\n",
    "\n",
    "    def create_model(self, print_summary=True):    \n",
    "\n",
    "        model = keras.models.Sequential([\n",
    "            keras.layers.Dense(32, input_shape=(ReboilerBinaryClassifier.FEATURES_NUM,), activation='sigmoid'),\n",
    "            # keras.layers.Dense(ReboilerBinaryClassifier.OUTPUT_NUM-1, activation=\"sigmoid\")\n",
    "            keras.layers.Dense(ReboilerBinaryClassifier.OUTPUT_NUM, activation=\"softmax\")\n",
    "        ])\n",
    "\n",
    "        model.compile(\n",
    "            loss='sparse_categorical_crossentropy',\n",
    "            # loss=\"binary_crossentropy\",\n",
    "            optimizer=\"adam\",\n",
    "            metrics=[\"accuracy\"]\n",
    "        )\n",
    "        if print_summary:\n",
    "            model.summary()\n",
    "\n",
    "        return model\n",
    " \n",
    "    def train_model(self, model, X_train, y_train, X_val, y_val, X_test, y_test, epochs):\n",
    "        run_logdir = self.get_run_logdir()\n",
    "        tensorboard_cb = keras.callbacks.TensorBoard(run_logdir) # create event files within run_logdir\n",
    "        history = model.fit(X_train, y_train, epochs=epochs, validation_data=(X_val, y_val), callbacks=[tensorboard_cb])\n",
    "        y_prob = model.predict(X_test)\n",
    "        y_pred = y_prob.argmax(axis=-1)\n",
    "        accuracy = accuracy_score(y_test, y_pred)\n",
    "        print('accuracy = {}'.format(accuracy)) \n",
    "\n",
    "    @staticmethod\n",
    "    def get_run_logdir():    \n",
    "        root_logdir = os.path.join(os.curdir, \"logs\")\n",
    "        run_id = time.strftime(\"run_%Y_%m_%d-%H_%M_%S\")\n",
    "        return os.path.join(root_logdir, run_id)\n"
   ]
  },
  {
   "cell_type": "code",
   "execution_count": 14,
   "metadata": {},
   "outputs": [],
   "source": [
    "r = ReboilerBinaryClassifier('Reboiler_Raw Data_With Timestamps.csv')"
   ]
  },
  {
   "cell_type": "code",
   "execution_count": 15,
   "metadata": {},
   "outputs": [],
   "source": [
    "r_pandas = r.load_data()"
   ]
  },
  {
   "cell_type": "code",
   "execution_count": 16,
   "metadata": {},
   "outputs": [
    {
     "data": {
      "text/html": [
       "<div>\n",
       "<style scoped>\n",
       "    .dataframe tbody tr th:only-of-type {\n",
       "        vertical-align: middle;\n",
       "    }\n",
       "\n",
       "    .dataframe tbody tr th {\n",
       "        vertical-align: top;\n",
       "    }\n",
       "\n",
       "    .dataframe thead th {\n",
       "        text-align: right;\n",
       "    }\n",
       "</style>\n",
       "<table border=\"1\" class=\"dataframe\">\n",
       "  <thead>\n",
       "    <tr style=\"text-align: right;\">\n",
       "      <th></th>\n",
       "      <th>Fecha</th>\n",
       "      <th>VAL356CI8017-Conductividad</th>\n",
       "      <th>VAL356M003-Carga Motor</th>\n",
       "      <th>VAL356M014-Carga Motor</th>\n",
       "      <th>VAL356M015-Carga Motor</th>\n",
       "      <th>VAL356PI8026-Ind.Presión</th>\n",
       "      <th>VAL356PIC8025-Ind.Presión</th>\n",
       "      <th>VAL356TI8015-Ind.Temperatura</th>\n",
       "      <th>VAL356TIC8014-Ind.Temperatura</th>\n",
       "      <th>Estado</th>\n",
       "    </tr>\n",
       "  </thead>\n",
       "  <tbody>\n",
       "    <tr>\n",
       "      <th>0</th>\n",
       "      <td>2006-10-24 23:38:00</td>\n",
       "      <td>12.3</td>\n",
       "      <td>68.026459</td>\n",
       "      <td>45.670056</td>\n",
       "      <td>30.343173</td>\n",
       "      <td>21.492553</td>\n",
       "      <td>20.9</td>\n",
       "      <td>71.883617</td>\n",
       "      <td>103.414846</td>\n",
       "      <td>0</td>\n",
       "    </tr>\n",
       "    <tr>\n",
       "      <th>1</th>\n",
       "      <td>2006-10-25 01:38:00</td>\n",
       "      <td>18.9</td>\n",
       "      <td>68.827098</td>\n",
       "      <td>45.924569</td>\n",
       "      <td>30.126654</td>\n",
       "      <td>20.954956</td>\n",
       "      <td>20.6</td>\n",
       "      <td>72.301453</td>\n",
       "      <td>103.487449</td>\n",
       "      <td>0</td>\n",
       "    </tr>\n",
       "    <tr>\n",
       "      <th>2</th>\n",
       "      <td>2006-10-25 03:38:00</td>\n",
       "      <td>25.9</td>\n",
       "      <td>68.871664</td>\n",
       "      <td>49.477196</td>\n",
       "      <td>29.701442</td>\n",
       "      <td>21.193045</td>\n",
       "      <td>20.3</td>\n",
       "      <td>71.775536</td>\n",
       "      <td>103.582936</td>\n",
       "      <td>0</td>\n",
       "    </tr>\n",
       "    <tr>\n",
       "      <th>3</th>\n",
       "      <td>2006-10-25 05:38:00</td>\n",
       "      <td>27.2</td>\n",
       "      <td>65.658285</td>\n",
       "      <td>51.649763</td>\n",
       "      <td>28.820497</td>\n",
       "      <td>21.021897</td>\n",
       "      <td>20.6</td>\n",
       "      <td>70.589861</td>\n",
       "      <td>103.697800</td>\n",
       "      <td>0</td>\n",
       "    </tr>\n",
       "    <tr>\n",
       "      <th>4</th>\n",
       "      <td>2006-10-25 07:38:00</td>\n",
       "      <td>22.0</td>\n",
       "      <td>64.166553</td>\n",
       "      <td>46.851182</td>\n",
       "      <td>27.760388</td>\n",
       "      <td>20.975880</td>\n",
       "      <td>20.4</td>\n",
       "      <td>71.762377</td>\n",
       "      <td>103.680362</td>\n",
       "      <td>0</td>\n",
       "    </tr>\n",
       "  </tbody>\n",
       "</table>\n",
       "</div>"
      ],
      "text/plain": [
       "                 Fecha  VAL356CI8017-Conductividad  VAL356M003-Carga Motor  \\\n",
       "0  2006-10-24 23:38:00                        12.3               68.026459   \n",
       "1  2006-10-25 01:38:00                        18.9               68.827098   \n",
       "2  2006-10-25 03:38:00                        25.9               68.871664   \n",
       "3  2006-10-25 05:38:00                        27.2               65.658285   \n",
       "4  2006-10-25 07:38:00                        22.0               64.166553   \n",
       "\n",
       "   VAL356M014-Carga Motor  VAL356M015-Carga Motor  VAL356PI8026-Ind.Presión  \\\n",
       "0               45.670056               30.343173                 21.492553   \n",
       "1               45.924569               30.126654                 20.954956   \n",
       "2               49.477196               29.701442                 21.193045   \n",
       "3               51.649763               28.820497                 21.021897   \n",
       "4               46.851182               27.760388                 20.975880   \n",
       "\n",
       "   VAL356PIC8025-Ind.Presión  VAL356TI8015-Ind.Temperatura  \\\n",
       "0                       20.9                     71.883617   \n",
       "1                       20.6                     72.301453   \n",
       "2                       20.3                     71.775536   \n",
       "3                       20.6                     70.589861   \n",
       "4                       20.4                     71.762377   \n",
       "\n",
       "   VAL356TIC8014-Ind.Temperatura  Estado  \n",
       "0                     103.414846       0  \n",
       "1                     103.487449       0  \n",
       "2                     103.582936       0  \n",
       "3                     103.697800       0  \n",
       "4                     103.680362       0  "
      ]
     },
     "execution_count": 16,
     "metadata": {},
     "output_type": "execute_result"
    }
   ],
   "source": [
    "r_pandas.head()"
   ]
  },
  {
   "cell_type": "code",
   "execution_count": 20,
   "metadata": {},
   "outputs": [],
   "source": [
    "X_train, y_train, X_val, y_val, X_test, y_test = r.split_data(r_pandas)"
   ]
  },
  {
   "cell_type": "code",
   "execution_count": 21,
   "metadata": {},
   "outputs": [
    {
     "name": "stdout",
     "output_type": "stream",
     "text": [
      "X_train (27011, 8)\n",
      "y_train (27011,)\n",
      "X_val (6753, 8)\n",
      "y_val (6753,)\n",
      "X_test (8442, 8)\n",
      "y_test (8442,)\n"
     ]
    }
   ],
   "source": [
    "print('X_train', X_train.shape)\n",
    "print('y_train', y_train.shape)\n",
    "print('X_val', X_val.shape)\n",
    "print('y_val', y_val.shape)\n",
    "print('X_test', X_test.shape)\n",
    "print('y_test', y_test.shape)"
   ]
  },
  {
   "cell_type": "code",
   "execution_count": 22,
   "metadata": {},
   "outputs": [
    {
     "name": "stdout",
     "output_type": "stream",
     "text": [
      "Model: \"sequential_1\"\n",
      "_________________________________________________________________\n",
      "Layer (type)                 Output Shape              Param #   \n",
      "=================================================================\n",
      "dense_2 (Dense)              (None, 32)                288       \n",
      "_________________________________________________________________\n",
      "dense_3 (Dense)              (None, 2)                 66        \n",
      "=================================================================\n",
      "Total params: 354\n",
      "Trainable params: 354\n",
      "Non-trainable params: 0\n",
      "_________________________________________________________________\n"
     ]
    }
   ],
   "source": [
    "model = r.create_model()"
   ]
  },
  {
   "cell_type": "code",
   "execution_count": 23,
   "metadata": {},
   "outputs": [
    {
     "name": "stdout",
     "output_type": "stream",
     "text": [
      "WARNING:tensorflow:Falling back from v2 loop because of error: Failed to find data adapter that can handle input: <class 'pandas.core.frame.DataFrame'>, <class 'NoneType'>\n",
      "Train on 27011 samples, validate on 6753 samples\n",
      "Epoch 1/30\n",
      " 6624/27011 [======>.......................] - ETA: 0s - loss: 0.1994 - accuracy: 0.9331"
     ]
    },
    {
     "name": "stderr",
     "output_type": "stream",
     "text": [
      "2023-01-10 22:15:14.219401: I tensorflow/core/profiler/lib/profiler_session.cc:184] Profiler session started.\n"
     ]
    },
    {
     "name": "stdout",
     "output_type": "stream",
     "text": [
      "27011/27011 [==============================] - 1s 28us/sample - loss: 0.1061 - accuracy: 0.9630 - val_loss: 0.0579 - val_accuracy: 0.9750\n",
      "Epoch 2/30\n",
      "27011/27011 [==============================] - 1s 25us/sample - loss: 0.0383 - accuracy: 0.9876 - val_loss: 0.0406 - val_accuracy: 0.9810\n",
      "Epoch 3/30\n",
      "27011/27011 [==============================] - 1s 24us/sample - loss: 0.0297 - accuracy: 0.9892 - val_loss: 0.0287 - val_accuracy: 0.9870\n",
      "Epoch 4/30\n",
      "27011/27011 [==============================] - 1s 24us/sample - loss: 0.0277 - accuracy: 0.9897 - val_loss: 0.0232 - val_accuracy: 0.9924\n",
      "Epoch 5/30\n",
      "27011/27011 [==============================] - 1s 24us/sample - loss: 0.0249 - accuracy: 0.9912 - val_loss: 0.0243 - val_accuracy: 0.9895\n",
      "Epoch 6/30\n",
      "27011/27011 [==============================] - 1s 24us/sample - loss: 0.0240 - accuracy: 0.9907 - val_loss: 0.0222 - val_accuracy: 0.9939\n",
      "Epoch 7/30\n",
      "27011/27011 [==============================] - 1s 26us/sample - loss: 0.0230 - accuracy: 0.9914 - val_loss: 0.0221 - val_accuracy: 0.9916\n",
      "Epoch 8/30\n",
      "27011/27011 [==============================] - 1s 25us/sample - loss: 0.0233 - accuracy: 0.9912 - val_loss: 0.0212 - val_accuracy: 0.9930\n",
      "Epoch 9/30\n",
      "27011/27011 [==============================] - 1s 25us/sample - loss: 0.0221 - accuracy: 0.9914 - val_loss: 0.0251 - val_accuracy: 0.9890\n",
      "Epoch 10/30\n",
      "27011/27011 [==============================] - 1s 25us/sample - loss: 0.0216 - accuracy: 0.9918 - val_loss: 0.0191 - val_accuracy: 0.9941\n",
      "Epoch 11/30\n",
      "27011/27011 [==============================] - 1s 25us/sample - loss: 0.0213 - accuracy: 0.9919 - val_loss: 0.0372 - val_accuracy: 0.9834\n",
      "Epoch 12/30\n",
      "27011/27011 [==============================] - 1s 24us/sample - loss: 0.0211 - accuracy: 0.9917 - val_loss: 0.0190 - val_accuracy: 0.9936\n",
      "Epoch 13/30\n",
      "27011/27011 [==============================] - 1s 25us/sample - loss: 0.0223 - accuracy: 0.9915 - val_loss: 0.0273 - val_accuracy: 0.9889\n",
      "Epoch 14/30\n",
      "27011/27011 [==============================] - 1s 25us/sample - loss: 0.0210 - accuracy: 0.9922 - val_loss: 0.0353 - val_accuracy: 0.9847\n",
      "Epoch 15/30\n",
      "27011/27011 [==============================] - 1s 25us/sample - loss: 0.0202 - accuracy: 0.9925 - val_loss: 0.0197 - val_accuracy: 0.9942\n",
      "Epoch 16/30\n",
      "27011/27011 [==============================] - 1s 24us/sample - loss: 0.0203 - accuracy: 0.9924 - val_loss: 0.0288 - val_accuracy: 0.9873\n",
      "Epoch 17/30\n",
      "27011/27011 [==============================] - 1s 24us/sample - loss: 0.0196 - accuracy: 0.9928 - val_loss: 0.0187 - val_accuracy: 0.9948\n",
      "Epoch 18/30\n",
      "27011/27011 [==============================] - 1s 24us/sample - loss: 0.0185 - accuracy: 0.9930 - val_loss: 0.0166 - val_accuracy: 0.9954\n",
      "Epoch 19/30\n",
      "27011/27011 [==============================] - 1s 24us/sample - loss: 0.0190 - accuracy: 0.9924 - val_loss: 0.0179 - val_accuracy: 0.9941\n",
      "Epoch 20/30\n",
      "27011/27011 [==============================] - 1s 24us/sample - loss: 0.0215 - accuracy: 0.9917 - val_loss: 0.0190 - val_accuracy: 0.9930\n",
      "Epoch 21/30\n",
      "27011/27011 [==============================] - 1s 24us/sample - loss: 0.0205 - accuracy: 0.9919 - val_loss: 0.0188 - val_accuracy: 0.9948\n",
      "Epoch 22/30\n",
      "27011/27011 [==============================] - 1s 24us/sample - loss: 0.0193 - accuracy: 0.9927 - val_loss: 0.0238 - val_accuracy: 0.9910\n",
      "Epoch 23/30\n",
      "27011/27011 [==============================] - 1s 24us/sample - loss: 0.0184 - accuracy: 0.9927 - val_loss: 0.0182 - val_accuracy: 0.9944\n",
      "Epoch 24/30\n",
      "27011/27011 [==============================] - 1s 24us/sample - loss: 0.0202 - accuracy: 0.9928 - val_loss: 0.0176 - val_accuracy: 0.9950\n",
      "Epoch 25/30\n",
      "27011/27011 [==============================] - 1s 24us/sample - loss: 0.0187 - accuracy: 0.9929 - val_loss: 0.0259 - val_accuracy: 0.9898\n",
      "Epoch 26/30\n",
      "27011/27011 [==============================] - 1s 24us/sample - loss: 0.0200 - accuracy: 0.9926 - val_loss: 0.0198 - val_accuracy: 0.9939\n",
      "Epoch 27/30\n",
      "27011/27011 [==============================] - 1s 24us/sample - loss: 0.0180 - accuracy: 0.9934 - val_loss: 0.0179 - val_accuracy: 0.9951\n",
      "Epoch 28/30\n",
      "27011/27011 [==============================] - 1s 25us/sample - loss: 0.0177 - accuracy: 0.9932 - val_loss: 0.0184 - val_accuracy: 0.9935\n",
      "Epoch 29/30\n",
      "27011/27011 [==============================] - 1s 24us/sample - loss: 0.0180 - accuracy: 0.9932 - val_loss: 0.0156 - val_accuracy: 0.9954\n",
      "Epoch 30/30\n",
      "27011/27011 [==============================] - 1s 25us/sample - loss: 0.0177 - accuracy: 0.9939 - val_loss: 0.0232 - val_accuracy: 0.9901\n",
      "WARNING:tensorflow:Falling back from v2 loop because of error: Failed to find data adapter that can handle input: <class 'pandas.core.frame.DataFrame'>, <class 'NoneType'>\n",
      "accuracy = 0.9898128405591092\n"
     ]
    }
   ],
   "source": [
    "r.train_model(model, X_train, y_train, X_val, y_val, X_test, y_test, epochs=30)"
   ]
  },
  {
   "cell_type": "code",
   "execution_count": 12,
   "metadata": {},
   "outputs": [
    {
     "data": {
      "text/html": [
       "\n",
       "      <iframe id=\"tensorboard-frame-2e63b4c3bc495617\" width=\"100%\" height=\"800\" frameborder=\"0\">\n",
       "      </iframe>\n",
       "      <script>\n",
       "        (function() {\n",
       "          const frame = document.getElementById(\"tensorboard-frame-2e63b4c3bc495617\");\n",
       "          const url = new URL(\"/\", window.location);\n",
       "          url.port = 6006;\n",
       "          frame.src = url;\n",
       "        })();\n",
       "      </script>\n",
       "  "
      ],
      "text/plain": [
       "<IPython.core.display.HTML object>"
      ]
     },
     "metadata": {},
     "output_type": "display_data"
    }
   ],
   "source": [
    "%reload_ext tensorboard\n",
    "# %load_ext tensorboard\n",
    "%tensorboard --logdir=./logs --port=6006"
   ]
  }
 ],
 "metadata": {
  "kernelspec": {
   "display_name": "databruin",
   "language": "python",
   "name": "python3"
  },
  "language_info": {
   "codemirror_mode": {
    "name": "ipython",
    "version": 3
   },
   "file_extension": ".py",
   "mimetype": "text/x-python",
   "name": "python",
   "nbconvert_exporter": "python",
   "pygments_lexer": "ipython3",
   "version": "3.7.16"
  },
  "orig_nbformat": 4,
  "vscode": {
   "interpreter": {
    "hash": "7e31652370f81e4d414a79ef78224fd771cb2105967e3b70b900be41f5e14b14"
   }
  }
 },
 "nbformat": 4,
 "nbformat_minor": 2
}
